{
 "cells": [
  {
   "cell_type": "code",
   "execution_count": 2,
   "metadata": {},
   "outputs": [
    {
     "name": "stdout",
     "output_type": "stream",
     "text": [
      "Help on getset descriptor builtins.int.real:\n",
      "\n",
      "real\n",
      "    the real part of a complex number\n",
      "\n"
     ]
    }
   ],
   "source": [
    "help(int.real)"
   ]
  },
  {
   "cell_type": "code",
   "execution_count": 7,
   "metadata": {},
   "outputs": [
    {
     "name": "stdout",
     "output_type": "stream",
     "text": [
      "True\n",
      "False\n",
      "True\n"
     ]
    }
   ],
   "source": [
    "#Searching an ielement in list with \"in\" and \"not in\" operator\n",
    "l = [1,2,3,4]\n",
    "i = 3\n",
    "print(i in l)\n",
    "\n",
    "j = 5\n",
    "print(j in l)\n",
    "print(j not in l)"
   ]
  },
  {
   "cell_type": "code",
   "execution_count": 9,
   "metadata": {},
   "outputs": [
    {
     "name": "stdout",
     "output_type": "stream",
     "text": [
      "4336233040\n",
      "4336233040\n"
     ]
    }
   ],
   "source": [
    "i = 10\n",
    "j = 10\n",
    "print(id(i))\n",
    "print(id(j))\n",
    "# id tells you tha unique number of an object in python\n"
   ]
  },
  {
   "cell_type": "code",
   "execution_count": 13,
   "metadata": {},
   "outputs": [
    {
     "name": "stdout",
     "output_type": "stream",
     "text": [
      "I is a non zero number 10\n",
      "J is a  zero number 0\n",
      "K is a non zero number -2\n"
     ]
    }
   ],
   "source": [
    "# how if works i.e zero (False) and non zero (True) condition\n",
    "i = 10\n",
    "if(i):\n",
    "    print(\"I is a non zero number\", i)\n",
    "else:\n",
    "     print(\"I is a  zero number\", i)\n",
    "\n",
    "j = 0\n",
    "if(j):\n",
    "    print(\"J is a non zero number\", j)\n",
    "else:\n",
    "     print(\"J is a  zero number\", j)\n",
    "\n",
    "k = -2\n",
    "if(k):\n",
    "    print(\"K is a non zero number\", k)\n",
    "else:\n",
    "     print(\"K is a  zero number\", k)"
   ]
  },
  {
   "cell_type": "code",
   "execution_count": 17,
   "metadata": {},
   "outputs": [
    {
     "name": "stdout",
     "output_type": "stream",
     "text": [
      "0\n",
      "1\n",
      "2\n",
      "3\n",
      "4\n",
      "5\n",
      "6\n",
      "7\n",
      "8\n",
      "9\n",
      "****** \n",
      "\n",
      "0\n",
      "1\n",
      "2\n",
      "3\n",
      "4\n",
      "5\n",
      "6\n",
      "7\n",
      "8\n",
      "9\n"
     ]
    }
   ],
   "source": [
    "#looping in python\n",
    "\n",
    "i = 0\n",
    "while i <10:\n",
    "    print(i)\n",
    "    i +=1\n",
    "print(\"****** \\n\")\n",
    "for i in range(0,10):\n",
    "    print(i)"
   ]
  },
  {
   "cell_type": "code",
   "execution_count": 19,
   "metadata": {},
   "outputs": [
    {
     "name": "stdout",
     "output_type": "stream",
     "text": [
      "Odd\n"
     ]
    }
   ],
   "source": [
    "#ternary operator in pythn\n",
    "j = 11\n",
    "\n",
    "print(\"Even Number\") if(j %2 ==0) else print(\"Odd Number\")"
   ]
  },
  {
   "cell_type": "code",
   "execution_count": 1,
   "metadata": {},
   "outputs": [],
   "source": [
    "# Exception handeling in python\n",
    "while True:\n",
    "    try:\n",
    "        x = int(input(\"Please enter a int number\"))\n",
    "        break\n",
    "    except ValueError:\n",
    "        print(\"Oops It is not a valid number, try again ...\")\n",
    "    finally:\n",
    "        print(\"In finally no matter what, it will be executed\")"
   ]
  },
  {
   "cell_type": "code",
   "execution_count": 14,
   "metadata": {},
   "outputs": [
    {
     "name": "stdout",
     "output_type": "stream",
     "text": [
      "['__repr__', '__hash__', '__str__', '__getattribute__', '__lt__', '__le__', '__eq__', '__ne__', '__gt__', '__ge__', '__iter__', '__mod__', '__rmod__', '__len__', '__getitem__', '__add__', '__mul__', '__rmul__', '__contains__', '__new__', 'encode', 'replace', 'split', 'rsplit', 'join', 'capitalize', 'casefold', 'title', 'center', 'count', 'expandtabs', 'find', 'partition', 'index', 'ljust', 'lower', 'lstrip', 'rfind', 'rindex', 'rjust', 'rstrip', 'rpartition', 'splitlines', 'strip', 'swapcase', 'translate', 'upper', 'startswith', 'endswith', 'removeprefix', 'removesuffix', 'isascii', 'islower', 'isupper', 'istitle', 'isspace', 'isdecimal', 'isdigit', 'isnumeric', 'isalpha', 'isalnum', 'isidentifier', 'isprintable', 'zfill', 'format', 'format_map', '__format__', 'maketrans', '__sizeof__', '__getnewargs__', '__doc__', '__setattr__', '__delattr__', '__init__', '__reduce_ex__', '__reduce__', '__subclasshook__', '__init_subclass__', '__dir__', '__class__']\n",
      "<class 'type'>\n",
      "<class 'int'>\n"
     ]
    }
   ],
   "source": [
    "#typecasting\n",
    "i = \"1\"\n",
    "j = int(i)\n",
    "tp = type(i)\n",
    "\n",
    "#print(type.__dir__(tp))\n",
    "print(type(type(i)))\n",
    "print(type(j))\n",
    "# Predefined Functions\n",
    "\n",
    "order = \"1,2023-07-25 00:00:00.0, 11598, CLOSED\""
   ]
  },
  {
   "cell_type": "code",
   "execution_count": 36,
   "metadata": {},
   "outputs": [
    {
     "name": "stdout",
     "output_type": "stream",
     "text": [
      "11598\n",
      "Amount 11598 Is a digit\n",
      "11598\n",
      "<class 'str'>\n",
      "<class 'int'>\n",
      "37\n",
      "3\n",
      "2\n",
      "Help on built-in function find:\n",
      "\n",
      "find(...) method of builtins.str instance\n",
      "    S.find(sub[, start[, end]]) -> int\n",
      "    \n",
      "    Return the lowest index in S where substring sub is found,\n",
      "    such that sub is contained within S[start:end].  Optional\n",
      "    arguments start and end are interpreted as in slice notation.\n",
      "    \n",
      "    Return -1 on failure.\n",
      "\n"
     ]
    }
   ],
   "source": [
    "#Important String function \n",
    "\n",
    "order = \"1,2023-07-25 00:00:00.0,11598, CLOSED\"\n",
    "\n",
    "#Split function, isdigit()\n",
    "order_as_list = order.split(\",\")\n",
    "# accessing 2nd list element\n",
    "print(order_as_list[2])\n",
    "\n",
    "# casting to int\n",
    "amount = order_as_list[2]\n",
    "if(amount.isdigit()): \n",
    "    print(\"Amount\", amount, \"Is a digit\") \n",
    "    amount_int = int(amount)\n",
    "else:\n",
    "    print(\"Amount\", amount, \"Is not a digit\") \n",
    "    amount_int = 0\n",
    "print(amount_int)\n",
    "print(type(amount))\n",
    "print(type(amount_int))\n",
    "\n",
    "# len --> is not part of str class , instead a collection function\n",
    "print(len(order))\n",
    "\n",
    "# count()\n",
    "'''\n",
    "ount(...)\n",
    "    S.count(sub[, start[, end]]) -> int\n",
    "    \n",
    "    Return the number of non-overlapping occurrences of substring sub in\n",
    "    string S[start:end].  Optional arguments start and end are\n",
    "    interpreted as in slice notation.\n",
    "'''\n",
    "# find occurences of string \"00\"in order streing\n",
    "order = \"1,2023-07-25 00:00:00.0,11598, CLOSED\"\n",
    "print(order.count(\"00\"))\n",
    "\n",
    "# find occurences of string \"00\"in order streing from index 0 to 18\n",
    "print(order.count(\"00\", 0, 18))\n",
    "\n",
    "# index and find \n",
    "'''\n",
    "index(...) method of builtins.str instance\n",
    "    S.index(sub[, start[, end]]) -> int\n",
    "    \n",
    "    Return the lowest index in S where substring sub is found,\n",
    "    such that sub is contained within S[start:end].  Optional\n",
    "    arguments start and end are interpreted as in slice notation.\n",
    "    \n",
    "    Raises ValueError when the substring is not found.\n",
    "'''\n",
    "'''\n",
    "find(...) method of builtins.str instance\n",
    "    S.find(sub[, start[, end]]) -> int\n",
    "    \n",
    "    Return the lowest index in S where substring sub is found,\n",
    "    such that sub is contained within S[start:end].  Optional\n",
    "    arguments start and end are interpreted as in slice notation.\n",
    "    \n",
    "    Return -1 on failure.\n",
    "'''\n",
    "help(order.find)"
   ]
  },
  {
   "cell_type": "code",
   "execution_count": 48,
   "metadata": {},
   "outputs": [
    {
     "name": "stdout",
     "output_type": "stream",
     "text": [
      "closed\n",
      "CLOSED\n",
      "Closed\n",
      " CLOSED  \n",
      "9\n",
      "CLOSED\n",
      "6\n"
     ]
    }
   ],
   "source": [
    "# lower , upper, capitalize\n",
    "order = \"1,2023-07-25 00:00:00.0,11598,CLOSED\"\n",
    "status = order.split(\",\")[3]\n",
    "print(status.lower())\n",
    "print(status.upper())\n",
    "\n",
    "#status = \"closedorder\"\n",
    "print(status.capitalize()) # only first letter is capitalised\n",
    "\n",
    "\n",
    "# trimming operation in strin \"strip\", lstrip, rstrip\n",
    "status = \" CLOSED  \"\n",
    "print(status)\n",
    "print(len(status))\n",
    "print(status.strip())\n",
    "print(len(status.strip()))\n"
   ]
  },
  {
   "cell_type": "code",
   "execution_count": 49,
   "metadata": {},
   "outputs": [
    {
     "name": "stdout",
     "output_type": "stream",
     "text": [
      "Help on method_descriptor:\n",
      "\n",
      "rjust(self, width, fillchar=' ', /)\n",
      "    Return a right-justified string of length width.\n",
      "    \n",
      "    Padding is done using the specified fill character (default is a space).\n",
      "\n"
     ]
    }
   ],
   "source": [
    "#padding functions rjust and ljust\n",
    "help(str.rjust)\n"
   ]
  }
 ],
 "metadata": {
  "kernelspec": {
   "display_name": "pyspark-venv",
   "language": "python",
   "name": "python3"
  },
  "language_info": {
   "codemirror_mode": {
    "name": "ipython",
    "version": 3
   },
   "file_extension": ".py",
   "mimetype": "text/x-python",
   "name": "python",
   "nbconvert_exporter": "python",
   "pygments_lexer": "ipython3",
   "version": "3.9.6"
  }
 },
 "nbformat": 4,
 "nbformat_minor": 2
}
