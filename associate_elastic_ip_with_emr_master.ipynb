{
 "cells": [
  {
   "cell_type": "code",
   "execution_count": 21,
   "metadata": {},
   "outputs": [],
   "source": [
    "import os"
   ]
  },
  {
   "cell_type": "code",
   "execution_count": 25,
   "metadata": {},
   "outputs": [
    {
     "data": {
      "text/plain": [
       "'default'"
      ]
     },
     "execution_count": 25,
     "metadata": {},
     "output_type": "execute_result"
    }
   ],
   "source": [
    "os.environ.setdefault('AWS_PROFILE', 'default')"
   ]
  },
  {
   "cell_type": "code",
   "execution_count": 56,
   "metadata": {},
   "outputs": [
    {
     "name": "stdout",
     "output_type": "stream",
     "text": [
      "{'ResponseMetadata': {'RequestId': 'H7E8VNFV21B4XERB', 'HostId': '0OYWN3Q+OdsyMKK7yUrZ+aUptXmembB9XEYFltZsqvlBPfokryB2MmD2nBDs2gc3q3niNuwdvHc=', 'HTTPStatusCode': 200, 'HTTPHeaders': {'x-amz-id-2': '0OYWN3Q+OdsyMKK7yUrZ+aUptXmembB9XEYFltZsqvlBPfokryB2MmD2nBDs2gc3q3niNuwdvHc=', 'x-amz-request-id': 'H7E8VNFV21B4XERB', 'date': 'Fri, 09 Aug 2024 08:55:25 GMT', 'content-type': 'application/xml', 'transfer-encoding': 'chunked', 'server': 'AmazonS3'}, 'RetryAttempts': 0}, 'Buckets': [{'Name': 'akj-learning-aws-emr', 'CreationDate': datetime.datetime(2024, 8, 7, 9, 17, 41, tzinfo=tzutc())}, {'Name': 'aws-logs-011528263907-us-east-1', 'CreationDate': datetime.datetime(2024, 8, 5, 9, 52, 9, tzinfo=tzutc())}], 'Owner': {'DisplayName': 'akjupskill', 'ID': '3e617a41173b44be48bae0e587459946319c2fe4b915e99d41c172e69ba5bd5a'}}\n",
      "akj-learning-aws-emr\n",
      "aws-logs-011528263907-us-east-1\n"
     ]
    }
   ],
   "source": [
    "from botocore.client import Config\n",
    "import boto3\n",
    "import logging\n",
    "\n",
    "boto3.set_stream_logger('', logging.ERROR)\n",
    "config = Config(connect_timeout=60,read_timeout=90, retries={'max_attempts': 0})\n",
    "s3 = boto3.client('s3',endpoint_url='https://s3.us-east-1.amazonaws.com',  config=config)\n",
    "list = s3.list_buckets()\n",
    "print(list)\n",
    "for bucket in list['Buckets']:\n",
    "    print(bucket['Name'])"
   ]
  }
 ],
 "metadata": {
  "kernelspec": {
   "display_name": "emr-venv",
   "language": "python",
   "name": "python3"
  },
  "language_info": {
   "name": "python",
   "version": "3.9.6"
  }
 },
 "nbformat": 4,
 "nbformat_minor": 2
}
